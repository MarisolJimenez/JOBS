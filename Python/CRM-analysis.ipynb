{
 "cells": [
  {
   "cell_type": "markdown",
   "metadata": {},
   "source": [
    "# Current CRM"
   ]
  },
  {
   "cell_type": "code",
   "execution_count": 2,
   "metadata": {},
   "outputs": [
    {
     "name": "stdout",
     "output_type": "stream",
     "text": [
      "Reading  Sourcing Rules WK 32.xlsx\n",
      "Reading ABCD\n",
      "CRM file created\n"
     ]
    }
   ],
   "source": [
    "import pandas as pd\n",
    "import numpy as np\n",
    "import datetime\n",
    "import sys, os\n",
    "import glob\n",
    "import time\n",
    "import fnmatch\n",
    "import time\n",
    "import xlwings as xw\n",
    "start_time = time.time()\n",
    "\n",
    "                                                   #OH\n",
    "OH = pd.read_excel(\"OH.xlsx\", dtype={'Item': str})\n",
    "#print(OH.shape)\n",
    "#OH.head()\n",
    "#SUBSET FOR NL1 SUBINVENTORY\n",
    "OH= OH[ ( (OH['Org'] == 'NL1') & \n",
    "         ( (OH['Sub'] == 'CMF1') | (OH['Sub'] == 'CFG1') | (OH['Sub'] == 'FIG1') | (OH['Sub'] == 'FWP1') | (OH['Sub'] == 'FWP2') \n",
    "         | (OH['Sub'] == 'OFS1') | (OH['Sub'] == 'PAQ1') | (OH['Sub'] == 'PAR1') | (OH['Sub'] == 'PAR2') | (OH['Sub'] == 'PTO2')\n",
    "         | (OH['Sub'] == 'SRM1') | (OH['Sub'] == 'STG1') | (OH['Sub'] == 'STG2') | (OH['Sub'] == 'STG3') | (OH['Sub'] == 'STG8')\n",
    "         | (OH['Sub'] == 'STG9') | (OH['Sub'] == 'SYS1') | (OH['Sub'] == 'SYS2') | (OH['Sub'] == 'SYS3') )) | \n",
    "       (OH['Org'] == 'SG1') | (OH['Org'] == 'TX2') | (OH['Org'] == 'SH2')]            \n",
    "#Create SKU DC Key\n",
    "OH[\"SKU DC\"] = OH[\"Item\"] + OH[\"Org\"]\n",
    "#OH.head()\n",
    "#make OH PIVOT\n",
    "OHPivot = pd.pivot_table(data = OH, index = ['SKU DC'], values = ['On-hand'], aggfunc = np.sum)\n",
    "OHPivot.reset_index(inplace=True) #CREATE NEW INDEXES\n",
    "#ADD ORG & ITEM COLUMNS\n",
    "OHPivot['ITEM'] = OHPivot['SKU DC'].str[:-3]\n",
    "OHPivot['ORG'] = OHPivot['SKU DC'].str.strip().str[-3:]\n",
    "#REORDER COLUMNS AS WANTED\n",
    "mid = OHPivot['SKU DC']\n",
    "OHPivot.drop(labels=['SKU DC'], axis=1, inplace = True)\n",
    "OHPivot.insert(3, 'SKU DC', mid)\n",
    "mid = OHPivot['On-hand']\n",
    "OHPivot.drop(labels=['On-hand'], axis=1, inplace = True)\n",
    "OHPivot.insert(3, 'OH', mid)\n",
    "#print(OHPivot.shape, 'OH tab created') # OHPivot to write as OH tab\n",
    "#OHPivot.head()\n",
    "\n",
    "#ASN\n",
    "#a=fnmatch.filter(os.listdir('.'), 'ASNS*')\n",
    "#a=a[0] \n",
    "#dfASN = pd.read_excel(a,dtype={'*Zebra PN': str},sheet_name = 'CRM',parse_dates=['*Planned Delivery Date.1'])\n",
    "#dfASN['*Planned Delivery Date.1']= dfASN['*Planned Delivery Date.1'].dt.strftime('%m-%d-%Y')\n",
    "\n",
    "                              #SRDC\n",
    "b=fnmatch.filter(os.listdir('.'), 'SRDC*')\n",
    "b=b[0] \n",
    "print('Reading ', b)\n",
    "dfSRDCNL1 = pd.read_excel(b,dtype={'ITEM': str},sheet_name = 'SRDC_NL1,SG1,SH2',usecols=\"A,B,D,F\")\n",
    "\n",
    "dfSRDCTX = pd.read_excel(b,dtype={'ITEM': str},sheet_name = 'SRDC_TX2,TX3,TX4,TX5',usecols=\"A,B,D,F\")\n",
    "dfSRDC = pd.concat([dfSRDCNL1,dfSRDCTX], ignore_index=True)\n",
    "#print(dfSRDC.shape, 'all SRDC')\n",
    "dfSRDC = dfSRDC[(dfSRDC['ORDER_TYPE'] == 'Inter-Org Intransit')]\n",
    "#print(dfSRDC.shape, 'filtered SRDC')\n",
    "\n",
    "                            #SOURCING RULES\n",
    "c=fnmatch.filter(os.listdir('.'), 'Sourcing Rules*')\n",
    "c=c[0] \n",
    "print('Reading ', c)\n",
    "dfsourcingrule  = pd.read_excel(c,dtype={'Item': str},sheet_name = 'Sourcing Rules')\n",
    "\n",
    "dfsourcingrule = dfsourcingrule[(dfsourcingrule['Org'] != 'TX3')]\n",
    "dfsourcingrule = dfsourcingrule.drop(['Inventory Org Name'], axis = 1)\n",
    "#print(dfsourcingrule.shape, 'ITEMS 1 SHAPE')\n",
    "dfsourcingrule['Item'] = dfsourcingrule['Item'].astype(str)\n",
    "\n",
    "                                        #ABCD file\n",
    "print('Reading ABCD')\n",
    "ABCD = pd.read_csv(\"Product Family & ABCD Rating.csv\", dtype={'Item': str,'Inventory Org Name': str})\n",
    "ABCD['SKU DC'] = ABCD[\"Item\"]+ABCD['Inventory Org Name'].str[:3]\n",
    "ABCD.drop(labels=['Default Buyer','Product Family','Product Class','Inventory Org Name'], axis=1, inplace = True)\n",
    "ABCD=ABCD.drop_duplicates(subset='SKU DC',keep='first') \n",
    "\n",
    "dfsourcingrule = pd.merge(dfsourcingrule, ABCD, on='SKU DC', how='left')\n",
    "dfsourcingrule.rename(columns = {'Zebra ABCD Rating':'ABCD RATING'}, inplace = True)\n",
    "\n",
    "dfsourcingrule['PLANNING CATEGORY'] = np.where(dfsourcingrule['ABCD RATING'] == 'UNASSIGN','Obsolete',\n",
    "                                      np.where(dfsourcingrule['ABCD RATING'] == 'A','Super Core',\n",
    "                                      np.where(dfsourcingrule['ABCD RATING'] == 'B','Core',\n",
    "                                      np.where(dfsourcingrule['ABCD RATING'] == 'C','Non Core',\n",
    "                                      np.where(dfsourcingrule['ABCD RATING'] == 'D','Slow Moving','NA' )))))\n",
    "\n",
    "dfsourcingrule.drop(labels=['Item_y'], axis=1, inplace = True)\n",
    "dfsourcingrule.rename(columns={'Item_x': 'Item'},inplace =True)\n",
    "dfsourcingrule.drop(labels=['Product Family Description'], axis=1, inplace = True)\n",
    "\n",
    "my_date = datetime.date.today()\n",
    "year, week_num, day_of_week = my_date.isocalendar()\n",
    "strings= 'VARIOUS WK' + str(week_num)\n",
    "b=(\"%s.xlsx\" % strings)\n",
    "print('CRM file created')"
   ]
  },
  {
   "cell_type": "markdown",
   "metadata": {},
   "source": [
    "# Try for ITEMS 2 report"
   ]
  },
  {
   "cell_type": "code",
   "execution_count": 3,
   "metadata": {},
   "outputs": [
    {
     "name": "stdout",
     "output_type": "stream",
     "text": [
      "(230428, 6) ALL ITEMS 2\n"
     ]
    }
   ],
   "source": [
    "dfsourcingrule  = pd.read_excel(c,dtype={'Item': str},sheet_name = 'Sourcing Rules')\n",
    "dfsourcingrule = dfsourcingrule[(dfsourcingrule['Org'] != 'TX3') & (dfsourcingrule['Org'] != 'TX5')]\n",
    "dfsourcingrule = dfsourcingrule.drop(['Inventory Org Name'], axis = 1)\n",
    "#print(dfsourcingrule.shape, 'ITEMS 1 SHAPE')\n",
    "dfsourcingrule['Item'] = dfsourcingrule['Item'].astype(str)\n",
    "\n",
    "dfsourcingrule = pd.merge(dfsourcingrule, ABCD, on='SKU DC', how='left')\n",
    "dfsourcingrule.rename(columns = {'Zebra ABCD Rating':'ABCD RATING'}, inplace = True)\n",
    "\n",
    "dfsourcingrule['PLANNING CATEGORY'] = np.where(dfsourcingrule['ABCD RATING'] == 'UNASSIGN','Obsolete',\n",
    "                                      np.where(dfsourcingrule['ABCD RATING'] == 'A','Super Core',\n",
    "                                      np.where(dfsourcingrule['ABCD RATING'] == 'B','Core',\n",
    "                                      np.where(dfsourcingrule['ABCD RATING'] == 'C','Non Core',\n",
    "                                      np.where(dfsourcingrule['ABCD RATING'] == 'D','Slow Moving','NA' )))))\n",
    "\n",
    "dfsourcingrule.drop(labels=['Item_y'], axis=1, inplace = True)\n",
    "dfsourcingrule.rename(columns={'Item_x': 'Item'},inplace =True)\n",
    "\n",
    "dfITEMS2 = dfsourcingrule[['Item','Sourcing Rule Name','Supplier Name','Supplier Number','Supplier Site Code','Product Family Description']]\n",
    "#dfITEMS2 = dfsourcingrule[['Item','Sourcing Rule Name','Supplier Name','Supplier Number','Supplier Site Code']]\n",
    "print(dfITEMS2.shape, 'ALL ITEMS 2')"
   ]
  },
  {
   "cell_type": "code",
   "execution_count": 19,
   "metadata": {},
   "outputs": [
    {
     "data": {
      "text/html": [
       "<div>\n",
       "<style scoped>\n",
       "    .dataframe tbody tr th:only-of-type {\n",
       "        vertical-align: middle;\n",
       "    }\n",
       "\n",
       "    .dataframe tbody tr th {\n",
       "        vertical-align: top;\n",
       "    }\n",
       "\n",
       "    .dataframe thead th {\n",
       "        text-align: right;\n",
       "    }\n",
       "</style>\n",
       "<table border=\"1\" class=\"dataframe\">\n",
       "  <thead>\n",
       "    <tr style=\"text-align: right;\">\n",
       "      <th></th>\n",
       "      <th>Item</th>\n",
       "      <th>Sourcing Rule Name</th>\n",
       "      <th>Supplier Name</th>\n",
       "      <th>Supplier Number</th>\n",
       "      <th>Supplier Site Code</th>\n",
       "      <th>Product_Family_Description</th>\n",
       "    </tr>\n",
       "  </thead>\n",
       "  <tbody>\n",
       "    <tr>\n",
       "      <th>0</th>\n",
       "      <td>001.19RACKSIM</td>\n",
       "      <td>Transfer From SVC TX5.</td>\n",
       "      <td>NaN</td>\n",
       "      <td>NaN</td>\n",
       "      <td>NaN</td>\n",
       "      <td>GSD - FRU</td>\n",
       "    </tr>\n",
       "    <tr>\n",
       "      <th>1</th>\n",
       "      <td>00251-000</td>\n",
       "      <td>Global AQ Parkoprint AB</td>\n",
       "      <td>AQ Parkoprint AB</td>\n",
       "      <td>10982.0</td>\n",
       "      <td>Gavle-ZTE</td>\n",
       "      <td>SPS Parts</td>\n",
       "    </tr>\n",
       "    <tr>\n",
       "      <th>2</th>\n",
       "      <td>00255-000</td>\n",
       "      <td>Global AQ Parkoprint AB</td>\n",
       "      <td>AQ Parkoprint AB</td>\n",
       "      <td>10982.0</td>\n",
       "      <td>Gavle-ZTE</td>\n",
       "      <td>SPS Parts</td>\n",
       "    </tr>\n",
       "    <tr>\n",
       "      <th>3</th>\n",
       "      <td>00272-080</td>\n",
       "      <td>Global AQ Parkoprint AB</td>\n",
       "      <td>AQ Parkoprint AB</td>\n",
       "      <td>10982.0</td>\n",
       "      <td>Gavle-ZTE</td>\n",
       "      <td>SPS Parts</td>\n",
       "    </tr>\n",
       "    <tr>\n",
       "      <th>4</th>\n",
       "      <td>00272-080</td>\n",
       "      <td>Transfer from TX2</td>\n",
       "      <td>AQ Parkoprint AB</td>\n",
       "      <td>10982.0</td>\n",
       "      <td>Gavle-ZTC</td>\n",
       "      <td>SPS Parts</td>\n",
       "    </tr>\n",
       "  </tbody>\n",
       "</table>\n",
       "</div>"
      ],
      "text/plain": [
       "            Item       Sourcing Rule Name     Supplier Name  Supplier Number  \\\n",
       "0  001.19RACKSIM   Transfer From SVC TX5.               NaN              NaN   \n",
       "1      00251-000  Global AQ Parkoprint AB  AQ Parkoprint AB          10982.0   \n",
       "2      00255-000  Global AQ Parkoprint AB  AQ Parkoprint AB          10982.0   \n",
       "3      00272-080  Global AQ Parkoprint AB  AQ Parkoprint AB          10982.0   \n",
       "4      00272-080        Transfer from TX2  AQ Parkoprint AB          10982.0   \n",
       "\n",
       "  Supplier Site Code Product_Family_Description  \n",
       "0                NaN                  GSD - FRU  \n",
       "1          Gavle-ZTE                  SPS Parts  \n",
       "2          Gavle-ZTE                  SPS Parts  \n",
       "3          Gavle-ZTE                  SPS Parts  \n",
       "4          Gavle-ZTC                  SPS Parts  "
      ]
     },
     "execution_count": 19,
     "metadata": {},
     "output_type": "execute_result"
    }
   ],
   "source": [
    "dfITEMS21=dfITEMS2.rename(columns = {'Product Family Description':'Product_Family_Description'})\n",
    "dfITEMS21.head()"
   ]
  },
  {
   "cell_type": "code",
   "execution_count": 37,
   "metadata": {},
   "outputs": [
    {
     "name": "stdout",
     "output_type": "stream",
     "text": [
      "(453, 2) ITEMS 2 with NA SHAPE\n"
     ]
    },
    {
     "data": {
      "text/html": [
       "<div>\n",
       "<style scoped>\n",
       "    .dataframe tbody tr th:only-of-type {\n",
       "        vertical-align: middle;\n",
       "    }\n",
       "\n",
       "    .dataframe tbody tr th {\n",
       "        vertical-align: top;\n",
       "    }\n",
       "\n",
       "    .dataframe thead th {\n",
       "        text-align: right;\n",
       "    }\n",
       "</style>\n",
       "<table border=\"1\" class=\"dataframe\">\n",
       "  <thead>\n",
       "    <tr style=\"text-align: right;\">\n",
       "      <th></th>\n",
       "      <th>Item</th>\n",
       "      <th>Product_Family_Description</th>\n",
       "    </tr>\n",
       "  </thead>\n",
       "  <tbody>\n",
       "    <tr>\n",
       "      <th>56</th>\n",
       "      <td>100851093</td>\n",
       "      <td>NaN</td>\n",
       "    </tr>\n",
       "    <tr>\n",
       "      <th>57</th>\n",
       "      <td>1009304004</td>\n",
       "      <td>NaN</td>\n",
       "    </tr>\n",
       "    <tr>\n",
       "      <th>58</th>\n",
       "      <td>1009340001</td>\n",
       "      <td>NaN</td>\n",
       "    </tr>\n",
       "    <tr>\n",
       "      <th>59</th>\n",
       "      <td>1009341001</td>\n",
       "      <td>NaN</td>\n",
       "    </tr>\n",
       "    <tr>\n",
       "      <th>60</th>\n",
       "      <td>1013011001</td>\n",
       "      <td>NaN</td>\n",
       "    </tr>\n",
       "  </tbody>\n",
       "</table>\n",
       "</div>"
      ],
      "text/plain": [
       "          Item Product_Family_Description\n",
       "56   100851093                        NaN\n",
       "57  1009304004                        NaN\n",
       "58  1009340001                        NaN\n",
       "59  1009341001                        NaN\n",
       "60  1013011001                        NaN"
      ]
     },
     "execution_count": 37,
     "metadata": {},
     "output_type": "execute_result"
    }
   ],
   "source": [
    "dfITEMS3=dfITEMS21[['Item','Product_Family_Description']]\n",
    "#subset NA PN and convert those to numbers\n",
    "dfITEMS3=dfITEMS3[dfITEMS3['Product_Family_Description'].isnull()]\n",
    "print(dfITEMS3.shape, 'ITEMS 2 with NA SHAPE')\n",
    "dfITEMS3.head()"
   ]
  },
  {
   "cell_type": "code",
   "execution_count": 40,
   "metadata": {},
   "outputs": [
    {
     "data": {
      "text/plain": [
       "(206, 2)"
      ]
     },
     "execution_count": 40,
     "metadata": {},
     "output_type": "execute_result"
    }
   ],
   "source": [
    "dfITEMS3 = dfITEMS3[(dfITEMS3['Item'] != 'nan')]\n",
    "dfITEMS3.shape"
   ]
  },
  {
   "cell_type": "code",
   "execution_count": 42,
   "metadata": {},
   "outputs": [
    {
     "ename": "ValueError",
     "evalue": "could not convert string to float: '2605-10-01 00:00:00'",
     "output_type": "error",
     "traceback": [
      "\u001b[1;31m---------------------------------------------------------------------------\u001b[0m",
      "\u001b[1;31mValueError\u001b[0m                                Traceback (most recent call last)",
      "\u001b[1;32m<ipython-input-42-485d05454c1e>\u001b[0m in \u001b[0;36m<module>\u001b[1;34m\u001b[0m\n\u001b[0;32m      1\u001b[0m \u001b[1;31m#CONVERT TO NUMBER ITEM\u001b[0m\u001b[1;33m\u001b[0m\u001b[1;33m\u001b[0m\u001b[1;33m\u001b[0m\u001b[0m\n\u001b[1;32m----> 2\u001b[1;33m \u001b[0mdfITEMS3\u001b[0m\u001b[1;33m[\u001b[0m\u001b[1;34m'Item'\u001b[0m\u001b[1;33m]\u001b[0m \u001b[1;33m=\u001b[0m \u001b[0mdfITEMS3\u001b[0m\u001b[1;33m[\u001b[0m\u001b[1;34m'Item'\u001b[0m\u001b[1;33m]\u001b[0m\u001b[1;33m.\u001b[0m\u001b[0mastype\u001b[0m\u001b[1;33m(\u001b[0m\u001b[0mfloat\u001b[0m\u001b[1;33m)\u001b[0m\u001b[1;33m\u001b[0m\u001b[1;33m\u001b[0m\u001b[0m\n\u001b[0m\u001b[0;32m      3\u001b[0m \u001b[0mdfITEMS3\u001b[0m\u001b[1;33m.\u001b[0m\u001b[0mhead\u001b[0m\u001b[1;33m(\u001b[0m\u001b[1;33m)\u001b[0m\u001b[1;33m\u001b[0m\u001b[1;33m\u001b[0m\u001b[0m\n",
      "\u001b[1;32m~\\Anaconda3\\lib\\site-packages\\pandas\\core\\generic.py\u001b[0m in \u001b[0;36mastype\u001b[1;34m(self, dtype, copy, errors)\u001b[0m\n\u001b[0;32m   5544\u001b[0m         \u001b[1;32melse\u001b[0m\u001b[1;33m:\u001b[0m\u001b[1;33m\u001b[0m\u001b[1;33m\u001b[0m\u001b[0m\n\u001b[0;32m   5545\u001b[0m             \u001b[1;31m# else, only a single dtype is given\u001b[0m\u001b[1;33m\u001b[0m\u001b[1;33m\u001b[0m\u001b[1;33m\u001b[0m\u001b[0m\n\u001b[1;32m-> 5546\u001b[1;33m             \u001b[0mnew_data\u001b[0m \u001b[1;33m=\u001b[0m \u001b[0mself\u001b[0m\u001b[1;33m.\u001b[0m\u001b[0m_mgr\u001b[0m\u001b[1;33m.\u001b[0m\u001b[0mastype\u001b[0m\u001b[1;33m(\u001b[0m\u001b[0mdtype\u001b[0m\u001b[1;33m=\u001b[0m\u001b[0mdtype\u001b[0m\u001b[1;33m,\u001b[0m \u001b[0mcopy\u001b[0m\u001b[1;33m=\u001b[0m\u001b[0mcopy\u001b[0m\u001b[1;33m,\u001b[0m \u001b[0merrors\u001b[0m\u001b[1;33m=\u001b[0m\u001b[0merrors\u001b[0m\u001b[1;33m,\u001b[0m\u001b[1;33m)\u001b[0m\u001b[1;33m\u001b[0m\u001b[1;33m\u001b[0m\u001b[0m\n\u001b[0m\u001b[0;32m   5547\u001b[0m             \u001b[1;32mreturn\u001b[0m \u001b[0mself\u001b[0m\u001b[1;33m.\u001b[0m\u001b[0m_constructor\u001b[0m\u001b[1;33m(\u001b[0m\u001b[0mnew_data\u001b[0m\u001b[1;33m)\u001b[0m\u001b[1;33m.\u001b[0m\u001b[0m__finalize__\u001b[0m\u001b[1;33m(\u001b[0m\u001b[0mself\u001b[0m\u001b[1;33m,\u001b[0m \u001b[0mmethod\u001b[0m\u001b[1;33m=\u001b[0m\u001b[1;34m\"astype\"\u001b[0m\u001b[1;33m)\u001b[0m\u001b[1;33m\u001b[0m\u001b[1;33m\u001b[0m\u001b[0m\n\u001b[0;32m   5548\u001b[0m \u001b[1;33m\u001b[0m\u001b[0m\n",
      "\u001b[1;32m~\\Anaconda3\\lib\\site-packages\\pandas\\core\\internals\\managers.py\u001b[0m in \u001b[0;36mastype\u001b[1;34m(self, dtype, copy, errors)\u001b[0m\n\u001b[0;32m    593\u001b[0m         \u001b[0mself\u001b[0m\u001b[1;33m,\u001b[0m \u001b[0mdtype\u001b[0m\u001b[1;33m,\u001b[0m \u001b[0mcopy\u001b[0m\u001b[1;33m:\u001b[0m \u001b[0mbool\u001b[0m \u001b[1;33m=\u001b[0m \u001b[1;32mFalse\u001b[0m\u001b[1;33m,\u001b[0m \u001b[0merrors\u001b[0m\u001b[1;33m:\u001b[0m \u001b[0mstr\u001b[0m \u001b[1;33m=\u001b[0m \u001b[1;34m\"raise\"\u001b[0m\u001b[1;33m\u001b[0m\u001b[1;33m\u001b[0m\u001b[0m\n\u001b[0;32m    594\u001b[0m     ) -> \"BlockManager\":\n\u001b[1;32m--> 595\u001b[1;33m         \u001b[1;32mreturn\u001b[0m \u001b[0mself\u001b[0m\u001b[1;33m.\u001b[0m\u001b[0mapply\u001b[0m\u001b[1;33m(\u001b[0m\u001b[1;34m\"astype\"\u001b[0m\u001b[1;33m,\u001b[0m \u001b[0mdtype\u001b[0m\u001b[1;33m=\u001b[0m\u001b[0mdtype\u001b[0m\u001b[1;33m,\u001b[0m \u001b[0mcopy\u001b[0m\u001b[1;33m=\u001b[0m\u001b[0mcopy\u001b[0m\u001b[1;33m,\u001b[0m \u001b[0merrors\u001b[0m\u001b[1;33m=\u001b[0m\u001b[0merrors\u001b[0m\u001b[1;33m)\u001b[0m\u001b[1;33m\u001b[0m\u001b[1;33m\u001b[0m\u001b[0m\n\u001b[0m\u001b[0;32m    596\u001b[0m \u001b[1;33m\u001b[0m\u001b[0m\n\u001b[0;32m    597\u001b[0m     def convert(\n",
      "\u001b[1;32m~\\Anaconda3\\lib\\site-packages\\pandas\\core\\internals\\managers.py\u001b[0m in \u001b[0;36mapply\u001b[1;34m(self, f, align_keys, **kwargs)\u001b[0m\n\u001b[0;32m    404\u001b[0m                 \u001b[0mapplied\u001b[0m \u001b[1;33m=\u001b[0m \u001b[0mb\u001b[0m\u001b[1;33m.\u001b[0m\u001b[0mapply\u001b[0m\u001b[1;33m(\u001b[0m\u001b[0mf\u001b[0m\u001b[1;33m,\u001b[0m \u001b[1;33m**\u001b[0m\u001b[0mkwargs\u001b[0m\u001b[1;33m)\u001b[0m\u001b[1;33m\u001b[0m\u001b[1;33m\u001b[0m\u001b[0m\n\u001b[0;32m    405\u001b[0m             \u001b[1;32melse\u001b[0m\u001b[1;33m:\u001b[0m\u001b[1;33m\u001b[0m\u001b[1;33m\u001b[0m\u001b[0m\n\u001b[1;32m--> 406\u001b[1;33m                 \u001b[0mapplied\u001b[0m \u001b[1;33m=\u001b[0m \u001b[0mgetattr\u001b[0m\u001b[1;33m(\u001b[0m\u001b[0mb\u001b[0m\u001b[1;33m,\u001b[0m \u001b[0mf\u001b[0m\u001b[1;33m)\u001b[0m\u001b[1;33m(\u001b[0m\u001b[1;33m**\u001b[0m\u001b[0mkwargs\u001b[0m\u001b[1;33m)\u001b[0m\u001b[1;33m\u001b[0m\u001b[1;33m\u001b[0m\u001b[0m\n\u001b[0m\u001b[0;32m    407\u001b[0m             \u001b[0mresult_blocks\u001b[0m \u001b[1;33m=\u001b[0m \u001b[0m_extend_blocks\u001b[0m\u001b[1;33m(\u001b[0m\u001b[0mapplied\u001b[0m\u001b[1;33m,\u001b[0m \u001b[0mresult_blocks\u001b[0m\u001b[1;33m)\u001b[0m\u001b[1;33m\u001b[0m\u001b[1;33m\u001b[0m\u001b[0m\n\u001b[0;32m    408\u001b[0m \u001b[1;33m\u001b[0m\u001b[0m\n",
      "\u001b[1;32m~\\Anaconda3\\lib\\site-packages\\pandas\\core\\internals\\blocks.py\u001b[0m in \u001b[0;36mastype\u001b[1;34m(self, dtype, copy, errors)\u001b[0m\n\u001b[0;32m    593\u001b[0m             \u001b[0mvals1d\u001b[0m \u001b[1;33m=\u001b[0m \u001b[0mvalues\u001b[0m\u001b[1;33m.\u001b[0m\u001b[0mravel\u001b[0m\u001b[1;33m(\u001b[0m\u001b[1;33m)\u001b[0m\u001b[1;33m\u001b[0m\u001b[1;33m\u001b[0m\u001b[0m\n\u001b[0;32m    594\u001b[0m             \u001b[1;32mtry\u001b[0m\u001b[1;33m:\u001b[0m\u001b[1;33m\u001b[0m\u001b[1;33m\u001b[0m\u001b[0m\n\u001b[1;32m--> 595\u001b[1;33m                 \u001b[0mvalues\u001b[0m \u001b[1;33m=\u001b[0m \u001b[0mastype_nansafe\u001b[0m\u001b[1;33m(\u001b[0m\u001b[0mvals1d\u001b[0m\u001b[1;33m,\u001b[0m \u001b[0mdtype\u001b[0m\u001b[1;33m,\u001b[0m \u001b[0mcopy\u001b[0m\u001b[1;33m=\u001b[0m\u001b[1;32mTrue\u001b[0m\u001b[1;33m)\u001b[0m\u001b[1;33m\u001b[0m\u001b[1;33m\u001b[0m\u001b[0m\n\u001b[0m\u001b[0;32m    596\u001b[0m             \u001b[1;32mexcept\u001b[0m \u001b[1;33m(\u001b[0m\u001b[0mValueError\u001b[0m\u001b[1;33m,\u001b[0m \u001b[0mTypeError\u001b[0m\u001b[1;33m)\u001b[0m\u001b[1;33m:\u001b[0m\u001b[1;33m\u001b[0m\u001b[1;33m\u001b[0m\u001b[0m\n\u001b[0;32m    597\u001b[0m                 \u001b[1;31m# e.g. astype_nansafe can fail on object-dtype of strings\u001b[0m\u001b[1;33m\u001b[0m\u001b[1;33m\u001b[0m\u001b[1;33m\u001b[0m\u001b[0m\n",
      "\u001b[1;32m~\\Anaconda3\\lib\\site-packages\\pandas\\core\\dtypes\\cast.py\u001b[0m in \u001b[0;36mastype_nansafe\u001b[1;34m(arr, dtype, copy, skipna)\u001b[0m\n\u001b[0;32m    993\u001b[0m     \u001b[1;32mif\u001b[0m \u001b[0mcopy\u001b[0m \u001b[1;32mor\u001b[0m \u001b[0mis_object_dtype\u001b[0m\u001b[1;33m(\u001b[0m\u001b[0marr\u001b[0m\u001b[1;33m)\u001b[0m \u001b[1;32mor\u001b[0m \u001b[0mis_object_dtype\u001b[0m\u001b[1;33m(\u001b[0m\u001b[0mdtype\u001b[0m\u001b[1;33m)\u001b[0m\u001b[1;33m:\u001b[0m\u001b[1;33m\u001b[0m\u001b[1;33m\u001b[0m\u001b[0m\n\u001b[0;32m    994\u001b[0m         \u001b[1;31m# Explicit copy, or required since NumPy can't view from / to object.\u001b[0m\u001b[1;33m\u001b[0m\u001b[1;33m\u001b[0m\u001b[1;33m\u001b[0m\u001b[0m\n\u001b[1;32m--> 995\u001b[1;33m         \u001b[1;32mreturn\u001b[0m \u001b[0marr\u001b[0m\u001b[1;33m.\u001b[0m\u001b[0mastype\u001b[0m\u001b[1;33m(\u001b[0m\u001b[0mdtype\u001b[0m\u001b[1;33m,\u001b[0m \u001b[0mcopy\u001b[0m\u001b[1;33m=\u001b[0m\u001b[1;32mTrue\u001b[0m\u001b[1;33m)\u001b[0m\u001b[1;33m\u001b[0m\u001b[1;33m\u001b[0m\u001b[0m\n\u001b[0m\u001b[0;32m    996\u001b[0m \u001b[1;33m\u001b[0m\u001b[0m\n\u001b[0;32m    997\u001b[0m     \u001b[1;32mreturn\u001b[0m \u001b[0marr\u001b[0m\u001b[1;33m.\u001b[0m\u001b[0mview\u001b[0m\u001b[1;33m(\u001b[0m\u001b[0mdtype\u001b[0m\u001b[1;33m)\u001b[0m\u001b[1;33m\u001b[0m\u001b[1;33m\u001b[0m\u001b[0m\n",
      "\u001b[1;31mValueError\u001b[0m: could not convert string to float: '2605-10-01 00:00:00'"
     ]
    }
   ],
   "source": [
    "#CONVERT TO NUMBER ITEM \n",
    "dfITEMS3['Item'] = dfITEMS3['Item'].astype(float)\n",
    "dfITEMS3.head()"
   ]
  },
  {
   "cell_type": "code",
   "execution_count": 46,
   "metadata": {},
   "outputs": [
    {
     "data": {
      "text/plain": [
       "56        1.00851e+08\n",
       "57         1.0093e+09\n",
       "58        1.00934e+09\n",
       "59        1.00934e+09\n",
       "60        1.01301e+09\n",
       "             ...     \n",
       "207520    6.08845e+10\n",
       "207521    6.08845e+11\n",
       "207777    7.53051e+15\n",
       "207778    7.53051e+15\n",
       "207780    7.53051e+15\n",
       "Name: Item, Length: 206, dtype: object"
      ]
     },
     "execution_count": 46,
     "metadata": {},
     "output_type": "execute_result"
    }
   ],
   "source": [
    "b=pd.to_numeric(dfITEMS3['Item'], errors='coerce').fillna(dfITEMS3['Item'])\n",
    "b"
   ]
  },
  {
   "cell_type": "code",
   "execution_count": 11,
   "metadata": {},
   "outputs": [
    {
     "data": {
      "text/plain": [
       "array(['nan'], dtype=object)"
      ]
     },
     "execution_count": 11,
     "metadata": {},
     "output_type": "execute_result"
    }
   ],
   "source": [
    "dfITEMS21.Item.unique()"
   ]
  },
  {
   "cell_type": "code",
   "execution_count": 17,
   "metadata": {},
   "outputs": [
    {
     "data": {
      "text/plain": [
       "'Sourcing Rules WK 19.xlsx'"
      ]
     },
     "execution_count": 17,
     "metadata": {},
     "output_type": "execute_result"
    }
   ],
   "source": [
    "#CONVERT TO NUMBER ITEM \n",
    "dfITEMS2['Item'] = dfITEMS2['Item'].astype(int)\n",
    "#merge again vs ABCD\n",
    "dfITEMS2 = pd.merge(dfITEMS2, ABCD, on ='Item', how='left')"
   ]
  },
  {
   "cell_type": "code",
   "execution_count": 4,
   "metadata": {},
   "outputs": [
    {
     "data": {
      "text/html": [
       "<div>\n",
       "<style scoped>\n",
       "    .dataframe tbody tr th:only-of-type {\n",
       "        vertical-align: middle;\n",
       "    }\n",
       "\n",
       "    .dataframe tbody tr th {\n",
       "        vertical-align: top;\n",
       "    }\n",
       "\n",
       "    .dataframe thead th {\n",
       "        text-align: right;\n",
       "    }\n",
       "</style>\n",
       "<table border=\"1\" class=\"dataframe\">\n",
       "  <thead>\n",
       "    <tr style=\"text-align: right;\">\n",
       "      <th></th>\n",
       "      <th>Item</th>\n",
       "      <th>Zebra ABCD Rating</th>\n",
       "      <th>Product Family Description</th>\n",
       "      <th>SKU DC</th>\n",
       "    </tr>\n",
       "  </thead>\n",
       "  <tbody>\n",
       "    <tr>\n",
       "      <th>0</th>\n",
       "      <td>.18523732.00</td>\n",
       "      <td>C</td>\n",
       "      <td>GSD - FRU</td>\n",
       "      <td>.18523732.00NL1</td>\n",
       "    </tr>\n",
       "    <tr>\n",
       "      <th>1</th>\n",
       "      <td>00017-000</td>\n",
       "      <td>NaN</td>\n",
       "      <td>GSD - FRU</td>\n",
       "      <td>00017-000NL1</td>\n",
       "    </tr>\n",
       "    <tr>\n",
       "      <th>2</th>\n",
       "      <td>0001AB</td>\n",
       "      <td>UNASSIGN</td>\n",
       "      <td>VC50XX</td>\n",
       "      <td>0001ABNL1</td>\n",
       "    </tr>\n",
       "    <tr>\n",
       "      <th>3</th>\n",
       "      <td>0003G</td>\n",
       "      <td>E</td>\n",
       "      <td>Tooling</td>\n",
       "      <td>0003GNL1</td>\n",
       "    </tr>\n",
       "    <tr>\n",
       "      <th>4</th>\n",
       "      <td>00040</td>\n",
       "      <td>UNASSIGN</td>\n",
       "      <td>EVM NON-SALEABLE</td>\n",
       "      <td>00040NL1</td>\n",
       "    </tr>\n",
       "  </tbody>\n",
       "</table>\n",
       "</div>"
      ],
      "text/plain": [
       "           Item Zebra ABCD Rating Product Family Description           SKU DC\n",
       "0  .18523732.00                 C                  GSD - FRU  .18523732.00NL1\n",
       "1     00017-000               NaN                  GSD - FRU     00017-000NL1\n",
       "2        0001AB          UNASSIGN                     VC50XX        0001ABNL1\n",
       "3         0003G                 E                    Tooling         0003GNL1\n",
       "4         00040          UNASSIGN           EVM NON-SALEABLE         00040NL1"
      ]
     },
     "execution_count": 4,
     "metadata": {},
     "output_type": "execute_result"
    }
   ],
   "source": [
    "ABCD.head()"
   ]
  },
  {
   "cell_type": "code",
   "execution_count": 47,
   "metadata": {},
   "outputs": [],
   "source": [
    "#dfglobal.to_excel('df.xlsx',index= False,sheet_name='Global consolidated DnS SV+ZCM')\n",
    "with pd.ExcelWriter('VARIOUS WK7.xlsx') as writer:  \n",
    "    dfITEMS3.to_excel(writer, sheet_name='ITEMS2',index= False)\n",
    "    b.to_excel(writer, sheet_name='ABCD',index= False)"
   ]
  },
  {
   "cell_type": "code",
   "execution_count": null,
   "metadata": {},
   "outputs": [],
   "source": [
    "#convert blanks to number and then merge again items"
   ]
  },
  {
   "cell_type": "markdown",
   "metadata": {},
   "source": [
    "# Current CRM"
   ]
  },
  {
   "cell_type": "code",
   "execution_count": 3,
   "metadata": {},
   "outputs": [
    {
     "name": "stdout",
     "output_type": "stream",
     "text": [
      "--- 120.16326831976572 minutes to create VARIOUS WK file\n"
     ]
    }
   ],
   "source": [
    "#dfglobal.to_excel('df.xlsx',index= False,sheet_name='Global consolidated DnS SV+ZCM')\n",
    "with pd.ExcelWriter(b) as writer:  \n",
    "    #dfASN.to_excel(writer, sheet_name='CRM',index= False)\n",
    "    dfSRDC.to_excel(writer, sheet_name='ASN SRDC',index= False)\n",
    "    OHPivot.to_excel(writer, sheet_name = 'OH', index = False)\n",
    "    dfsourcingrule.to_excel(writer, sheet_name='ITEMS1',index= False)\n",
    "    #ABCD.to_excel(writer, sheet_name='ABCD',index= False)\n",
    "d=(time.time() - start_time)/60\n",
    "print(\"--- %s minutes to create VARIOUS WK file\" % d)\n",
    "#print(b)\n",
    "c=fnmatch.filter(os.listdir('.'), 'Sourcing Rules*')\n",
    "c=c[0] \n",
    "#print(c)"
   ]
  },
  {
   "cell_type": "markdown",
   "metadata": {},
   "source": [
    "# Delete all duplicates"
   ]
  },
  {
   "cell_type": "code",
   "execution_count": 3,
   "metadata": {},
   "outputs": [],
   "source": [
    "#MOVE SHEETS FROM ASN file\n",
    "import xlwings as xw\n",
    "a=fnmatch.filter(os.listdir('.'), 'ASNS*')\n",
    "a=a[0]\n",
    "#print(a)\n",
    "#print(b)\n",
    "pathtc = \"C:\\\\Users\\\\MJ7255\\\\Desktop\\\\CRM\\\\\" + a\n",
    "pathf = \"C:\\\\Users\\\\MJ7255\\\\Desktop\\\\CRM\\\\VARIOUS WK.xlsx\"\n",
    "wbtc = xw.Book(pathtc)\n",
    "wbf = xw.Book(pathf)\n",
    "wstc = wbtc.sheets(1)\n",
    "\n",
    "wstc.api.Copy(After=wbf.sheets(1).api)\n",
    "wbf.save()\n",
    "wbtc.app.quit()"
   ]
  },
  {
   "cell_type": "code",
   "execution_count": 5,
   "metadata": {},
   "outputs": [
    {
     "name": "stdout",
     "output_type": "stream",
     "text": [
      "(169702, 9) ITEMS2 after merge\n"
     ]
    }
   ],
   "source": [
    "#print(ABCD.shape,'ABCD SHAPE DUPLICATE ITEMS')\n",
    "ABCD=ABCD.drop_duplicates(subset='Item',keep='first') \n",
    "#print(ABCD.shape,'ABCD SHAPE NO DUPLICATE ITEMS')\n",
    "dfITEMS2[\"Material Number\"]=dfITEMS2[\"Item\"]\n",
    "dfITEMS2 = pd.merge(dfITEMS2, ABCD, on = 'Item', how = 'left')\n",
    "print(dfITEMS2.shape, 'ITEMS2 after merge')\n",
    "dfITEMS2.drop(labels = ['SKU DC','Zebra ABCD Rating'],axis=1, inplace = True)\n",
    "dfITEMS2.insert(6, 'Business', 'Zebra')\n",
    "dfITEMS2.insert(6, 'New Line Master Cap Model', '')\n",
    "dfITEMS2.insert(6, 'Master file  ', '')\n",
    "dfITEMS2.insert(6, 'Family', '')\n",
    "dfITEMS2.insert(6, 'Value Stream', '')\n",
    "dfITEMS2.insert(6, 'Ship Check', '')\n",
    "dfITEMS2.insert(6, 'Sub Assemblies', '')\n",
    "dfITEMS2.insert(6, 'Cost', 'Product')"
   ]
  },
  {
   "cell_type": "markdown",
   "metadata": {},
   "source": [
    "# Delete NAN FROM ITEMS 2"
   ]
  },
  {
   "cell_type": "code",
   "execution_count": 36,
   "metadata": {},
   "outputs": [
    {
     "name": "stdout",
     "output_type": "stream",
     "text": [
      "(192430, 6)\n"
     ]
    },
    {
     "data": {
      "text/html": [
       "<div>\n",
       "<style scoped>\n",
       "    .dataframe tbody tr th:only-of-type {\n",
       "        vertical-align: middle;\n",
       "    }\n",
       "\n",
       "    .dataframe tbody tr th {\n",
       "        vertical-align: top;\n",
       "    }\n",
       "\n",
       "    .dataframe thead th {\n",
       "        text-align: right;\n",
       "    }\n",
       "</style>\n",
       "<table border=\"1\" class=\"dataframe\">\n",
       "  <thead>\n",
       "    <tr style=\"text-align: right;\">\n",
       "      <th></th>\n",
       "      <th>Item</th>\n",
       "      <th>Sourcing Rule Name</th>\n",
       "      <th>Supplier Name</th>\n",
       "      <th>Supplier Number</th>\n",
       "      <th>Supplier Site Code</th>\n",
       "      <th>a</th>\n",
       "    </tr>\n",
       "  </thead>\n",
       "  <tbody>\n",
       "    <tr>\n",
       "      <th>0</th>\n",
       "      <td>001.19RACKSIM</td>\n",
       "      <td>Transfer From SVC TX3 to NL1</td>\n",
       "      <td>NaN</td>\n",
       "      <td>NaN</td>\n",
       "      <td>NaN</td>\n",
       "      <td>True</td>\n",
       "    </tr>\n",
       "    <tr>\n",
       "      <th>1</th>\n",
       "      <td>00251-000</td>\n",
       "      <td>Global AQ Parkoprint AB</td>\n",
       "      <td>AQ Parkoprint AB</td>\n",
       "      <td>10982.0</td>\n",
       "      <td>Gavle-ZTE</td>\n",
       "      <td>True</td>\n",
       "    </tr>\n",
       "    <tr>\n",
       "      <th>2</th>\n",
       "      <td>00255-000</td>\n",
       "      <td>Global AQ Parkoprint AB</td>\n",
       "      <td>AQ Parkoprint AB</td>\n",
       "      <td>10982.0</td>\n",
       "      <td>Gavle-ZTE</td>\n",
       "      <td>True</td>\n",
       "    </tr>\n",
       "    <tr>\n",
       "      <th>3</th>\n",
       "      <td>00272-080</td>\n",
       "      <td>Global AQ Parkoprint AB</td>\n",
       "      <td>AQ Parkoprint AB</td>\n",
       "      <td>10982.0</td>\n",
       "      <td>Gavle-ZTE</td>\n",
       "      <td>True</td>\n",
       "    </tr>\n",
       "    <tr>\n",
       "      <th>4</th>\n",
       "      <td>00272-080</td>\n",
       "      <td>Transfer from TX2</td>\n",
       "      <td>AQ Parkoprint AB</td>\n",
       "      <td>10982.0</td>\n",
       "      <td>Gavle-ZTC</td>\n",
       "      <td>True</td>\n",
       "    </tr>\n",
       "  </tbody>\n",
       "</table>\n",
       "</div>"
      ],
      "text/plain": [
       "            Item            Sourcing Rule Name     Supplier Name  \\\n",
       "0  001.19RACKSIM  Transfer From SVC TX3 to NL1               NaN   \n",
       "1      00251-000       Global AQ Parkoprint AB  AQ Parkoprint AB   \n",
       "2      00255-000       Global AQ Parkoprint AB  AQ Parkoprint AB   \n",
       "3      00272-080       Global AQ Parkoprint AB  AQ Parkoprint AB   \n",
       "4      00272-080             Transfer from TX2  AQ Parkoprint AB   \n",
       "\n",
       "   Supplier Number Supplier Site Code     a  \n",
       "0              NaN                NaN  True  \n",
       "1          10982.0          Gavle-ZTE  True  \n",
       "2          10982.0          Gavle-ZTE  True  \n",
       "3          10982.0          Gavle-ZTE  True  \n",
       "4          10982.0          Gavle-ZTC  True  "
      ]
     },
     "execution_count": 36,
     "metadata": {},
     "output_type": "execute_result"
    }
   ],
   "source": [
    "dfITEMS2['Item'] = np.where(dfITEMS2['Item'] == 'nan', '', dfITEMS2['Item'])\n",
    "\n",
    "dfITEMS2['a'] = pd.notnull(dfITEMS2['Item'])\n",
    "dfITEMS21 = dfITEMS2[dfITEMS2['a'] == True]\n",
    "\n",
    "print(dfITEMS21.shape)\n",
    "dfITEMS21.head()"
   ]
  },
  {
   "cell_type": "markdown",
   "metadata": {},
   "source": [
    "# NO"
   ]
  },
  {
   "cell_type": "code",
   "execution_count": 12,
   "metadata": {},
   "outputs": [
    {
     "data": {
      "text/html": [
       "<div>\n",
       "<style scoped>\n",
       "    .dataframe tbody tr th:only-of-type {\n",
       "        vertical-align: middle;\n",
       "    }\n",
       "\n",
       "    .dataframe tbody tr th {\n",
       "        vertical-align: top;\n",
       "    }\n",
       "\n",
       "    .dataframe thead th {\n",
       "        text-align: right;\n",
       "    }\n",
       "</style>\n",
       "<table border=\"1\" class=\"dataframe\">\n",
       "  <thead>\n",
       "    <tr style=\"text-align: right;\">\n",
       "      <th></th>\n",
       "      <th>Org</th>\n",
       "      <th>Inventory Org Name</th>\n",
       "      <th>Item</th>\n",
       "      <th>SKU DC</th>\n",
       "      <th>Sourcing Rule Name</th>\n",
       "      <th>Supplier Name</th>\n",
       "      <th>Supplier Number</th>\n",
       "      <th>Supplier Site Code</th>\n",
       "      <th>Item Status</th>\n",
       "      <th>TRANSFERS</th>\n",
       "    </tr>\n",
       "  </thead>\n",
       "  <tbody>\n",
       "    <tr>\n",
       "      <th>19589</th>\n",
       "      <td>NL1</td>\n",
       "      <td>NL1-ZTE NL Inv Org</td>\n",
       "      <td>282322</td>\n",
       "      <td>282322NL1</td>\n",
       "      <td>Transfer From SVC TX3 to NL1</td>\n",
       "      <td>NaN</td>\n",
       "      <td>NaN</td>\n",
       "      <td>NaN</td>\n",
       "      <td>Zebra Inactive</td>\n",
       "      <td>YES</td>\n",
       "    </tr>\n",
       "  </tbody>\n",
       "</table>\n",
       "</div>"
      ],
      "text/plain": [
       "       Org  Inventory Org Name    Item     SKU DC  \\\n",
       "19589  NL1  NL1-ZTE NL Inv Org  282322  282322NL1   \n",
       "\n",
       "                 Sourcing Rule Name Supplier Name  Supplier Number  \\\n",
       "19589  Transfer From SVC TX3 to NL1           NaN              NaN   \n",
       "\n",
       "      Supplier Site Code     Item Status TRANSFERS  \n",
       "19589                NaN  Zebra Inactive       YES  "
      ]
     },
     "execution_count": 12,
     "metadata": {},
     "output_type": "execute_result"
    }
   ],
   "source": [
    "dfsourcingrule.loc[dfsourcingrule['Item'] == \"282322\"]"
   ]
  },
  {
   "cell_type": "code",
   "execution_count": 3,
   "metadata": {},
   "outputs": [],
   "source": [
    "#ASN\n",
    "a=fnmatch.filter(os.listdir('.'), 'ASNS*')\n",
    "a=a[0] \n",
    "dfASN = pd.read_excel(a,dtype={'*Zebra PN': str},sheet_name = 'CRM',parse_dates=['*Planned Delivery Date.1'])\n",
    "dfASN['*Planned Delivery Date.1']= dfASN['*Planned Delivery Date.1'].dt.strftime('%m-%d-%Y')\n",
    "\n",
    "with pd.ExcelWriter('VARIOUS WK.xlsx') as writer:  \n",
    "    dfASN.to_excel(writer, sheet_name='ASN SRDC',index= False)"
   ]
  },
  {
   "cell_type": "code",
   "execution_count": 5,
   "metadata": {},
   "outputs": [
    {
     "data": {
      "text/plain": [
       "'VARIOUS WK24.xls'"
      ]
     },
     "execution_count": 5,
     "metadata": {},
     "output_type": "execute_result"
    }
   ],
   "source": [
    "ttry=(\"%s.xls\" % strings)\n",
    "ttry"
   ]
  },
  {
   "cell_type": "code",
   "execution_count": 7,
   "metadata": {},
   "outputs": [
    {
     "name": "stdout",
     "output_type": "stream",
     "text": [
      "--- 315.9642132639885 minutes to create VARIOUS WK file\n"
     ]
    }
   ],
   "source": [
    "#dfglobal.to_excel('df.xlsx',index= False,sheet_name='Global consolidated DnS SV+ZCM')\n",
    "with pd.ExcelWriter(ttry) as writer:  \n",
    "    #dfASN.to_excel(writer, sheet_name='CRM',index= False)\n",
    "    #dfSRDC.to_excel(writer, sheet_name='ASN SRDC',index= False)\n",
    "    OHPivot.to_excel(writer, sheet_name = 'OH', index = False)\n",
    "    #dfsourcingrule.to_excel(writer, sheet_name='ITEMS1',index= False)\n",
    "    #ABCD.to_excel(writer, sheet_name='ABCD',index= False)\n",
    "d=(time.time() - start_time)/60\n",
    "print(\"--- %s minutes to create VARIOUS WK file\" % d)\n",
    "#print(b)\n",
    "c=fnmatch.filter(os.listdir('.'), 'Sourcing Rules*')\n",
    "c=c[0] \n",
    "#print(c)"
   ]
  }
 ],
 "metadata": {
  "kernelspec": {
   "display_name": "Python 3",
   "language": "python",
   "name": "python3"
  },
  "language_info": {
   "codemirror_mode": {
    "name": "ipython",
    "version": 3
   },
   "file_extension": ".py",
   "mimetype": "text/x-python",
   "name": "python",
   "nbconvert_exporter": "python",
   "pygments_lexer": "ipython3",
   "version": "3.8.5"
  }
 },
 "nbformat": 4,
 "nbformat_minor": 4
}
